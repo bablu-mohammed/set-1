{
 "cells": [
  {
   "cell_type": "code",
   "execution_count": 3,
   "id": "41b4b027",
   "metadata": {},
   "outputs": [
    {
     "name": "stdout",
     "output_type": "stream",
     "text": [
      "enter a number1:10\n",
      "enter a number2:20\n",
      "addition of 10 and 20 is 30\n"
     ]
    }
   ],
   "source": [
    "#write a program to add two numbers:\n",
    "a=int(input(\"enter a number1:\"))\n",
    "b=int(input(\"enter a number2:\"))\n",
    "print(f\"addition of {a} and {b} is {a+b}\")"
   ]
  },
  {
   "cell_type": "code",
   "execution_count": 5,
   "id": "1c4859ac",
   "metadata": {},
   "outputs": [
    {
     "name": "stdout",
     "output_type": "stream",
     "text": [
      "enter a number1:30\n",
      "enter a number2:20\n",
      "30 divide 20 is 1.5\n"
     ]
    }
   ],
   "source": [
    "#write a program to find the remainder when a number is divided by b:\n",
    "a=int(input(\"enter a number1:\"))\n",
    "b=int(input(\"enter a number2:\"))\n",
    "remainder=a/b\n",
    "print(f\"{a} divide {b} is {remainder}\")"
   ]
  },
  {
   "cell_type": "code",
   "execution_count": 8,
   "id": "6c537f00",
   "metadata": {},
   "outputs": [
    {
     "name": "stdout",
     "output_type": "stream",
     "text": [
      "the area of a triangle is: 6.0\n"
     ]
    }
   ],
   "source": [
    "#Area of a triangle when sides are given a=3, b=4, c=5:\n",
    "a=3;b=4;c=5\n",
    "s=(a+b+c)/2\n",
    "area=(s*(s-a)*(s-b)*(s-c))**(1/2)\n",
    "print(\"the area of a triangle is:\",area)"
   ]
  },
  {
   "cell_type": "code",
   "execution_count": 11,
   "id": "0d0f3275",
   "metadata": {},
   "outputs": [
    {
     "name": "stdout",
     "output_type": "stream",
     "text": [
      "enter a number110\n",
      "enter a number2:20\n",
      "The average of 10 and 20 is 15\n"
     ]
    }
   ],
   "source": [
    "#average of two numbers:\n",
    "a=int(input(\"enter a number1\"))\n",
    "b=int(input(\"enter a number2:\"))\n",
    "avg=(a+b)//(2)\n",
    "a=\"The average of {} and {} is {}\".format(a,b,avg)\n",
    "print(a)"
   ]
  },
  {
   "cell_type": "code",
   "execution_count": 13,
   "id": "acbbe3b7",
   "metadata": {},
   "outputs": [
    {
     "name": "stdout",
     "output_type": "stream",
     "text": [
      "enter a number:20\n",
      "400\n"
     ]
    }
   ],
   "source": [
    "#square of a number:\n",
    "a=int(input(\"enter a number:\"))\n",
    "print(a**2)"
   ]
  },
  {
   "cell_type": "code",
   "execution_count": 14,
   "id": "447569b1",
   "metadata": {},
   "outputs": [
    {
     "name": "stdout",
     "output_type": "stream",
     "text": [
      "enter a number:20\n",
      "8000\n"
     ]
    }
   ],
   "source": [
    "#cube of number:\n",
    "a=int(input(\"enter a number:\"))\n",
    "print(a**3)"
   ]
  },
  {
   "cell_type": "code",
   "execution_count": null,
   "id": "32eb4def",
   "metadata": {},
   "outputs": [],
   "source": []
  }
 ],
 "metadata": {
  "kernelspec": {
   "display_name": "Python 3 (ipykernel)",
   "language": "python",
   "name": "python3"
  },
  "language_info": {
   "codemirror_mode": {
    "name": "ipython",
    "version": 3
   },
   "file_extension": ".py",
   "mimetype": "text/x-python",
   "name": "python",
   "nbconvert_exporter": "python",
   "pygments_lexer": "ipython3",
   "version": "3.9.13"
  }
 },
 "nbformat": 4,
 "nbformat_minor": 5
}
